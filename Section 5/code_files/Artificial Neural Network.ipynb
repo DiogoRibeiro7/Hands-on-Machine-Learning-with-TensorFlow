{
 "cells": [
  {
   "cell_type": "markdown",
   "metadata": {},
   "source": [
    "# Part 1 - Data Preprocessing"
   ]
  },
  {
   "cell_type": "markdown",
   "metadata": {},
   "source": [
    "## Importing the Libraries and Dataset"
   ]
  },
  {
   "cell_type": "code",
   "execution_count": 1,
   "metadata": {},
   "outputs": [],
   "source": [
    "import numpy as np\n",
    "import matplotlib.pyplot as plt\n",
    "import pandas as pd"
   ]
  },
  {
   "cell_type": "code",
   "execution_count": 2,
   "metadata": {},
   "outputs": [],
   "source": [
    "dataset = pd.read_csv('Churn_Modelling.csv')"
   ]
  },
  {
   "cell_type": "code",
   "execution_count": 3,
   "metadata": {},
   "outputs": [
    {
     "data": {
      "text/html": [
       "<div>\n",
       "<style scoped>\n",
       "    .dataframe tbody tr th:only-of-type {\n",
       "        vertical-align: middle;\n",
       "    }\n",
       "\n",
       "    .dataframe tbody tr th {\n",
       "        vertical-align: top;\n",
       "    }\n",
       "\n",
       "    .dataframe thead th {\n",
       "        text-align: right;\n",
       "    }\n",
       "</style>\n",
       "<table border=\"1\" class=\"dataframe\">\n",
       "  <thead>\n",
       "    <tr style=\"text-align: right;\">\n",
       "      <th></th>\n",
       "      <th>RowNumber</th>\n",
       "      <th>CustomerId</th>\n",
       "      <th>Surname</th>\n",
       "      <th>CreditScore</th>\n",
       "      <th>Geography</th>\n",
       "      <th>Gender</th>\n",
       "      <th>Age</th>\n",
       "      <th>Tenure</th>\n",
       "      <th>Balance</th>\n",
       "      <th>NumOfProducts</th>\n",
       "      <th>HasCrCard</th>\n",
       "      <th>IsActiveMember</th>\n",
       "      <th>EstimatedSalary</th>\n",
       "      <th>Exited</th>\n",
       "    </tr>\n",
       "  </thead>\n",
       "  <tbody>\n",
       "    <tr>\n",
       "      <th>0</th>\n",
       "      <td>1</td>\n",
       "      <td>15634602</td>\n",
       "      <td>Hargrave</td>\n",
       "      <td>619</td>\n",
       "      <td>France</td>\n",
       "      <td>Female</td>\n",
       "      <td>42</td>\n",
       "      <td>2</td>\n",
       "      <td>0.00</td>\n",
       "      <td>1</td>\n",
       "      <td>1</td>\n",
       "      <td>1</td>\n",
       "      <td>101348.88</td>\n",
       "      <td>1</td>\n",
       "    </tr>\n",
       "    <tr>\n",
       "      <th>1</th>\n",
       "      <td>2</td>\n",
       "      <td>15647311</td>\n",
       "      <td>Hill</td>\n",
       "      <td>608</td>\n",
       "      <td>Spain</td>\n",
       "      <td>Female</td>\n",
       "      <td>41</td>\n",
       "      <td>1</td>\n",
       "      <td>83807.86</td>\n",
       "      <td>1</td>\n",
       "      <td>0</td>\n",
       "      <td>1</td>\n",
       "      <td>112542.58</td>\n",
       "      <td>0</td>\n",
       "    </tr>\n",
       "    <tr>\n",
       "      <th>2</th>\n",
       "      <td>3</td>\n",
       "      <td>15619304</td>\n",
       "      <td>Onio</td>\n",
       "      <td>502</td>\n",
       "      <td>France</td>\n",
       "      <td>Female</td>\n",
       "      <td>42</td>\n",
       "      <td>8</td>\n",
       "      <td>159660.80</td>\n",
       "      <td>3</td>\n",
       "      <td>1</td>\n",
       "      <td>0</td>\n",
       "      <td>113931.57</td>\n",
       "      <td>1</td>\n",
       "    </tr>\n",
       "    <tr>\n",
       "      <th>3</th>\n",
       "      <td>4</td>\n",
       "      <td>15701354</td>\n",
       "      <td>Boni</td>\n",
       "      <td>699</td>\n",
       "      <td>France</td>\n",
       "      <td>Female</td>\n",
       "      <td>39</td>\n",
       "      <td>1</td>\n",
       "      <td>0.00</td>\n",
       "      <td>2</td>\n",
       "      <td>0</td>\n",
       "      <td>0</td>\n",
       "      <td>93826.63</td>\n",
       "      <td>0</td>\n",
       "    </tr>\n",
       "    <tr>\n",
       "      <th>4</th>\n",
       "      <td>5</td>\n",
       "      <td>15737888</td>\n",
       "      <td>Mitchell</td>\n",
       "      <td>850</td>\n",
       "      <td>Spain</td>\n",
       "      <td>Female</td>\n",
       "      <td>43</td>\n",
       "      <td>2</td>\n",
       "      <td>125510.82</td>\n",
       "      <td>1</td>\n",
       "      <td>1</td>\n",
       "      <td>1</td>\n",
       "      <td>79084.10</td>\n",
       "      <td>0</td>\n",
       "    </tr>\n",
       "  </tbody>\n",
       "</table>\n",
       "</div>"
      ],
      "text/plain": [
       "   RowNumber  CustomerId   Surname  CreditScore Geography  Gender  Age  \\\n",
       "0          1    15634602  Hargrave          619    France  Female   42   \n",
       "1          2    15647311      Hill          608     Spain  Female   41   \n",
       "2          3    15619304      Onio          502    France  Female   42   \n",
       "3          4    15701354      Boni          699    France  Female   39   \n",
       "4          5    15737888  Mitchell          850     Spain  Female   43   \n",
       "\n",
       "   Tenure    Balance  NumOfProducts  HasCrCard  IsActiveMember  \\\n",
       "0       2       0.00              1          1               1   \n",
       "1       1   83807.86              1          0               1   \n",
       "2       8  159660.80              3          1               0   \n",
       "3       1       0.00              2          0               0   \n",
       "4       2  125510.82              1          1               1   \n",
       "\n",
       "   EstimatedSalary  Exited  \n",
       "0        101348.88       1  \n",
       "1        112542.58       0  \n",
       "2        113931.57       1  \n",
       "3         93826.63       0  \n",
       "4         79084.10       0  "
      ]
     },
     "execution_count": 3,
     "metadata": {},
     "output_type": "execute_result"
    }
   ],
   "source": [
    "dataset.head()"
   ]
  },
  {
   "cell_type": "code",
   "execution_count": 4,
   "metadata": {},
   "outputs": [],
   "source": [
    "X = dataset.iloc[:,3:13].values"
   ]
  },
  {
   "cell_type": "code",
   "execution_count": 5,
   "metadata": {},
   "outputs": [
    {
     "data": {
      "text/plain": [
       "array([[619, 'France', 'Female', ..., 1, 1, 101348.88],\n",
       "       [608, 'Spain', 'Female', ..., 0, 1, 112542.58],\n",
       "       [502, 'France', 'Female', ..., 1, 0, 113931.57],\n",
       "       ...,\n",
       "       [709, 'France', 'Female', ..., 0, 1, 42085.58],\n",
       "       [772, 'Germany', 'Male', ..., 1, 0, 92888.52],\n",
       "       [792, 'France', 'Female', ..., 1, 0, 38190.78]], dtype=object)"
      ]
     },
     "execution_count": 5,
     "metadata": {},
     "output_type": "execute_result"
    }
   ],
   "source": [
    "X"
   ]
  },
  {
   "cell_type": "code",
   "execution_count": 6,
   "metadata": {},
   "outputs": [],
   "source": [
    "y = dataset.iloc[:,13].values"
   ]
  },
  {
   "cell_type": "code",
   "execution_count": 7,
   "metadata": {},
   "outputs": [
    {
     "data": {
      "text/plain": [
       "array([1, 0, 1, ..., 1, 1, 0])"
      ]
     },
     "execution_count": 7,
     "metadata": {},
     "output_type": "execute_result"
    }
   ],
   "source": [
    "y"
   ]
  },
  {
   "cell_type": "markdown",
   "metadata": {},
   "source": [
    "## Encoding Categorical Data"
   ]
  },
  {
   "cell_type": "code",
   "execution_count": 8,
   "metadata": {},
   "outputs": [],
   "source": [
    "from sklearn.preprocessing import LabelEncoder, OneHotEncoder"
   ]
  },
  {
   "cell_type": "code",
   "execution_count": 9,
   "metadata": {},
   "outputs": [],
   "source": [
    "labelencoder_X_1 = LabelEncoder()\n",
    "X[:,1] = labelencoder_X_1.fit_transform(X[:,1])"
   ]
  },
  {
   "cell_type": "code",
   "execution_count": 10,
   "metadata": {},
   "outputs": [
    {
     "data": {
      "text/plain": [
       "array([[619, 0, 'Female', ..., 1, 1, 101348.88],\n",
       "       [608, 2, 'Female', ..., 0, 1, 112542.58],\n",
       "       [502, 0, 'Female', ..., 1, 0, 113931.57],\n",
       "       ...,\n",
       "       [709, 0, 'Female', ..., 0, 1, 42085.58],\n",
       "       [772, 1, 'Male', ..., 1, 0, 92888.52],\n",
       "       [792, 0, 'Female', ..., 1, 0, 38190.78]], dtype=object)"
      ]
     },
     "execution_count": 10,
     "metadata": {},
     "output_type": "execute_result"
    }
   ],
   "source": [
    "X"
   ]
  },
  {
   "cell_type": "code",
   "execution_count": 11,
   "metadata": {},
   "outputs": [],
   "source": [
    "labelencoder_X_2 = LabelEncoder()\n",
    "X[:,2] = labelencoder_X_2.fit_transform(X[:,2])"
   ]
  },
  {
   "cell_type": "code",
   "execution_count": 12,
   "metadata": {},
   "outputs": [
    {
     "data": {
      "text/plain": [
       "array([[619, 0, 0, ..., 1, 1, 101348.88],\n",
       "       [608, 2, 0, ..., 0, 1, 112542.58],\n",
       "       [502, 0, 0, ..., 1, 0, 113931.57],\n",
       "       ...,\n",
       "       [709, 0, 0, ..., 0, 1, 42085.58],\n",
       "       [772, 1, 1, ..., 1, 0, 92888.52],\n",
       "       [792, 0, 0, ..., 1, 0, 38190.78]], dtype=object)"
      ]
     },
     "execution_count": 12,
     "metadata": {},
     "output_type": "execute_result"
    }
   ],
   "source": [
    "X"
   ]
  },
  {
   "cell_type": "code",
   "execution_count": 36,
   "metadata": {},
   "outputs": [],
   "source": [
    "onehotencoder = OneHotEncoder(categorical_features=[1])\n",
    "X = onehotencoder.fit_transform(X).toarray()\n",
    "X = X[:,1:]"
   ]
  },
  {
   "cell_type": "markdown",
   "metadata": {},
   "source": [
    "## Train-Test split"
   ]
  },
  {
   "cell_type": "code",
   "execution_count": 37,
   "metadata": {},
   "outputs": [],
   "source": [
    "from sklearn.model_selection import train_test_split"
   ]
  },
  {
   "cell_type": "code",
   "execution_count": 38,
   "metadata": {},
   "outputs": [],
   "source": [
    "X_train, X_test, y_train, y_test = train_test_split(X, y, test_size=0.2, random_state=42)"
   ]
  },
  {
   "cell_type": "markdown",
   "metadata": {},
   "source": [
    "## Feature Scaling"
   ]
  },
  {
   "cell_type": "code",
   "execution_count": 39,
   "metadata": {},
   "outputs": [],
   "source": [
    "from sklearn.preprocessing import StandardScaler\n",
    "sc = StandardScaler()"
   ]
  },
  {
   "cell_type": "code",
   "execution_count": 40,
   "metadata": {},
   "outputs": [],
   "source": [
    "X_train = sc.fit_transform(X_train)"
   ]
  },
  {
   "cell_type": "code",
   "execution_count": 41,
   "metadata": {},
   "outputs": [
    {
     "data": {
      "text/plain": [
       "(8000, 11)"
      ]
     },
     "execution_count": 41,
     "metadata": {},
     "output_type": "execute_result"
    }
   ],
   "source": [
    "X_train.shape"
   ]
  },
  {
   "cell_type": "code",
   "execution_count": 42,
   "metadata": {},
   "outputs": [],
   "source": [
    "X_test = sc.transform(X_test)"
   ]
  },
  {
   "cell_type": "code",
   "execution_count": 43,
   "metadata": {},
   "outputs": [
    {
     "data": {
      "text/plain": [
       "(2000, 11)"
      ]
     },
     "execution_count": 43,
     "metadata": {},
     "output_type": "execute_result"
    }
   ],
   "source": [
    "X_test.shape"
   ]
  },
  {
   "cell_type": "markdown",
   "metadata": {},
   "source": [
    "# Part 2 - Let's make the Artificial Neural Network!"
   ]
  },
  {
   "cell_type": "markdown",
   "metadata": {},
   "source": [
    "## Importing the Keras Libraries and packages"
   ]
  },
  {
   "cell_type": "code",
   "execution_count": 44,
   "metadata": {},
   "outputs": [],
   "source": [
    "import keras\n",
    "from keras.models import Sequential\n",
    "from keras.layers import Dense"
   ]
  },
  {
   "cell_type": "markdown",
   "metadata": {},
   "source": [
    "## Initializing the ANN"
   ]
  },
  {
   "cell_type": "code",
   "execution_count": 45,
   "metadata": {},
   "outputs": [],
   "source": [
    "classifier = Sequential()"
   ]
  },
  {
   "cell_type": "markdown",
   "metadata": {},
   "source": [
    "## Adding Layers Manually one by one!"
   ]
  },
  {
   "cell_type": "code",
   "execution_count": 46,
   "metadata": {},
   "outputs": [],
   "source": [
    "# Adding the input layer and the first hidden layer\n",
    "classifier.add(Dense(units=6,kernel_initializer='uniform',activation='relu',input_dim=11))"
   ]
  },
  {
   "cell_type": "code",
   "execution_count": 47,
   "metadata": {},
   "outputs": [],
   "source": [
    "# Adding the Second hidden layer\n",
    "classifier.add(Dense(units=6,kernel_initializer='uniform',activation='relu'))"
   ]
  },
  {
   "cell_type": "code",
   "execution_count": 48,
   "metadata": {},
   "outputs": [],
   "source": [
    "# Adding the output layer\n",
    "classifier.add(Dense(units=1,kernel_initializer='uniform',activation='sigmoid'))"
   ]
  },
  {
   "cell_type": "markdown",
   "metadata": {},
   "source": [
    "## Compiling the ANN"
   ]
  },
  {
   "cell_type": "code",
   "execution_count": 49,
   "metadata": {},
   "outputs": [],
   "source": [
    "classifier.compile(optimizer='adam',loss='binary_crossentropy',metrics=['accuracy'])"
   ]
  },
  {
   "cell_type": "markdown",
   "metadata": {},
   "source": [
    "## Fitting the ANN to the Training set"
   ]
  },
  {
   "cell_type": "code",
   "execution_count": 50,
   "metadata": {},
   "outputs": [
    {
     "name": "stdout",
     "output_type": "stream",
     "text": [
      "Epoch 1/100\n",
      "8000/8000 [==============================] - 1s 115us/step - loss: 0.5146 - acc: 0.7932\n",
      "Epoch 2/100\n",
      "8000/8000 [==============================] - 1s 103us/step - loss: 0.4174 - acc: 0.8067\n",
      "Epoch 3/100\n",
      "8000/8000 [==============================] - 1s 104us/step - loss: 0.3899 - acc: 0.8229\n",
      "Epoch 4/100\n",
      "8000/8000 [==============================] - 1s 106us/step - loss: 0.3691 - acc: 0.8526\n",
      "Epoch 5/100\n",
      "8000/8000 [==============================] - 1s 105us/step - loss: 0.3562 - acc: 0.8574\n",
      "Epoch 6/100\n",
      "8000/8000 [==============================] - 1s 105us/step - loss: 0.3505 - acc: 0.8589\n",
      "Epoch 7/100\n",
      "8000/8000 [==============================] - 1s 105us/step - loss: 0.3472 - acc: 0.8599\n",
      "Epoch 8/100\n",
      "8000/8000 [==============================] - 1s 107us/step - loss: 0.3458 - acc: 0.8607\n",
      "Epoch 9/100\n",
      "8000/8000 [==============================] - 1s 106us/step - loss: 0.3441 - acc: 0.8614\n",
      "Epoch 10/100\n",
      "8000/8000 [==============================] - 1s 105us/step - loss: 0.3431 - acc: 0.8612\n",
      "Epoch 11/100\n",
      "8000/8000 [==============================] - 1s 107us/step - loss: 0.3421 - acc: 0.8602\n",
      "Epoch 12/100\n",
      "8000/8000 [==============================] - 1s 106us/step - loss: 0.3412 - acc: 0.8612\n",
      "Epoch 13/100\n",
      "8000/8000 [==============================] - 1s 109us/step - loss: 0.3405 - acc: 0.8611\n",
      "Epoch 14/100\n",
      "8000/8000 [==============================] - 1s 110us/step - loss: 0.3404 - acc: 0.8616\n",
      "Epoch 15/100\n",
      "8000/8000 [==============================] - 1s 111us/step - loss: 0.3396 - acc: 0.8604\n",
      "Epoch 16/100\n",
      "8000/8000 [==============================] - 1s 109us/step - loss: 0.3392 - acc: 0.8622\n",
      "Epoch 17/100\n",
      "8000/8000 [==============================] - 1s 111us/step - loss: 0.3392 - acc: 0.8616\n",
      "Epoch 18/100\n",
      "8000/8000 [==============================] - 1s 107us/step - loss: 0.3383 - acc: 0.8615\n",
      "Epoch 19/100\n",
      "8000/8000 [==============================] - 1s 111us/step - loss: 0.3385 - acc: 0.8611\n",
      "Epoch 20/100\n",
      "8000/8000 [==============================] - 1s 108us/step - loss: 0.3381 - acc: 0.8620\n",
      "Epoch 21/100\n",
      "8000/8000 [==============================] - 1s 109us/step - loss: 0.3378 - acc: 0.8632\n",
      "Epoch 22/100\n",
      "8000/8000 [==============================] - 1s 109us/step - loss: 0.3375 - acc: 0.8637\n",
      "Epoch 23/100\n",
      "8000/8000 [==============================] - 1s 111us/step - loss: 0.3372 - acc: 0.8624\n",
      "Epoch 24/100\n",
      "8000/8000 [==============================] - 1s 109us/step - loss: 0.3375 - acc: 0.8614\n",
      "Epoch 25/100\n",
      "8000/8000 [==============================] - 1s 110us/step - loss: 0.3363 - acc: 0.8629\n",
      "Epoch 26/100\n",
      "8000/8000 [==============================] - 1s 108us/step - loss: 0.3369 - acc: 0.8625\n",
      "Epoch 27/100\n",
      "8000/8000 [==============================] - 1s 109us/step - loss: 0.3362 - acc: 0.8624\n",
      "Epoch 28/100\n",
      "8000/8000 [==============================] - 1s 109us/step - loss: 0.3353 - acc: 0.8631\n",
      "Epoch 29/100\n",
      "8000/8000 [==============================] - 1s 109us/step - loss: 0.3363 - acc: 0.8614\n",
      "Epoch 30/100\n",
      "8000/8000 [==============================] - 1s 109us/step - loss: 0.3358 - acc: 0.8635\n",
      "Epoch 31/100\n",
      "8000/8000 [==============================] - 1s 110us/step - loss: 0.3358 - acc: 0.8626\n",
      "Epoch 32/100\n",
      "8000/8000 [==============================] - 1s 108us/step - loss: 0.3352 - acc: 0.8640\n",
      "Epoch 33/100\n",
      "8000/8000 [==============================] - 1s 108us/step - loss: 0.3359 - acc: 0.8607\n",
      "Epoch 34/100\n",
      "8000/8000 [==============================] - 1s 111us/step - loss: 0.3358 - acc: 0.8642\n",
      "Epoch 35/100\n",
      "8000/8000 [==============================] - 1s 109us/step - loss: 0.3351 - acc: 0.8632\n",
      "Epoch 36/100\n",
      "8000/8000 [==============================] - 1s 108us/step - loss: 0.3352 - acc: 0.8644\n",
      "Epoch 37/100\n",
      "8000/8000 [==============================] - 1s 110us/step - loss: 0.3351 - acc: 0.8644\n",
      "Epoch 38/100\n",
      "8000/8000 [==============================] - 1s 109us/step - loss: 0.3350 - acc: 0.8627\n",
      "Epoch 39/100\n",
      "8000/8000 [==============================] - 1s 111us/step - loss: 0.3351 - acc: 0.8635\n",
      "Epoch 40/100\n",
      "8000/8000 [==============================] - 1s 107us/step - loss: 0.3349 - acc: 0.8644\n",
      "Epoch 41/100\n",
      "8000/8000 [==============================] - 1s 110us/step - loss: 0.3342 - acc: 0.8639\n",
      "Epoch 42/100\n",
      "8000/8000 [==============================] - 1s 110us/step - loss: 0.3353 - acc: 0.8640\n",
      "Epoch 43/100\n",
      "8000/8000 [==============================] - 1s 110us/step - loss: 0.3345 - acc: 0.8646\n",
      "Epoch 44/100\n",
      "8000/8000 [==============================] - 1s 110us/step - loss: 0.3348 - acc: 0.8636\n",
      "Epoch 45/100\n",
      "8000/8000 [==============================] - 1s 110us/step - loss: 0.3342 - acc: 0.8642\n",
      "Epoch 46/100\n",
      "8000/8000 [==============================] - 1s 108us/step - loss: 0.3347 - acc: 0.8630\n",
      "Epoch 47/100\n",
      "8000/8000 [==============================] - 1s 109us/step - loss: 0.3344 - acc: 0.8641\n",
      "Epoch 48/100\n",
      "8000/8000 [==============================] - 1s 110us/step - loss: 0.3345 - acc: 0.8631\n",
      "Epoch 49/100\n",
      "8000/8000 [==============================] - 1s 110us/step - loss: 0.3341 - acc: 0.8639\n",
      "Epoch 50/100\n",
      "8000/8000 [==============================] - 1s 111us/step - loss: 0.3344 - acc: 0.8639\n",
      "Epoch 51/100\n",
      "8000/8000 [==============================] - 1s 110us/step - loss: 0.3342 - acc: 0.8641\n",
      "Epoch 52/100\n",
      "8000/8000 [==============================] - 1s 111us/step - loss: 0.3341 - acc: 0.8639\n",
      "Epoch 53/100\n",
      "8000/8000 [==============================] - 1s 109us/step - loss: 0.3335 - acc: 0.8632\n",
      "Epoch 54/100\n",
      "8000/8000 [==============================] - 1s 116us/step - loss: 0.3343 - acc: 0.8649\n",
      "Epoch 55/100\n",
      "8000/8000 [==============================] - 1s 113us/step - loss: 0.3340 - acc: 0.8650\n",
      "Epoch 56/100\n",
      "8000/8000 [==============================] - 1s 113us/step - loss: 0.3331 - acc: 0.8641\n",
      "Epoch 57/100\n",
      "8000/8000 [==============================] - 1s 118us/step - loss: 0.3341 - acc: 0.8635\n",
      "Epoch 58/100\n",
      "8000/8000 [==============================] - 1s 115us/step - loss: 0.3345 - acc: 0.8654\n",
      "Epoch 59/100\n",
      "8000/8000 [==============================] - 1s 116us/step - loss: 0.3340 - acc: 0.8641\n",
      "Epoch 60/100\n",
      "8000/8000 [==============================] - 1s 112us/step - loss: 0.3341 - acc: 0.8644\n",
      "Epoch 61/100\n",
      "8000/8000 [==============================] - 1s 116us/step - loss: 0.3337 - acc: 0.8651\n",
      "Epoch 62/100\n",
      "8000/8000 [==============================] - 1s 114us/step - loss: 0.3335 - acc: 0.8645\n",
      "Epoch 63/100\n",
      "8000/8000 [==============================] - 1s 119us/step - loss: 0.3338 - acc: 0.8650\n",
      "Epoch 64/100\n",
      "8000/8000 [==============================] - 1s 118us/step - loss: 0.3331 - acc: 0.8650\n",
      "Epoch 65/100\n",
      "8000/8000 [==============================] - 1s 115us/step - loss: 0.3341 - acc: 0.8644\n",
      "Epoch 66/100\n",
      "8000/8000 [==============================] - 1s 115us/step - loss: 0.3332 - acc: 0.8645\n",
      "Epoch 67/100\n",
      "8000/8000 [==============================] - 1s 115us/step - loss: 0.3335 - acc: 0.8662\n",
      "Epoch 68/100\n",
      "8000/8000 [==============================] - 1s 116us/step - loss: 0.3341 - acc: 0.8656\n",
      "Epoch 69/100\n",
      "8000/8000 [==============================] - 1s 116us/step - loss: 0.3334 - acc: 0.8639\n",
      "Epoch 70/100\n",
      "8000/8000 [==============================] - 1s 117us/step - loss: 0.3335 - acc: 0.8625\n",
      "Epoch 71/100\n",
      "8000/8000 [==============================] - 1s 124us/step - loss: 0.3335 - acc: 0.8649\n",
      "Epoch 72/100\n",
      "8000/8000 [==============================] - 1s 130us/step - loss: 0.3335 - acc: 0.8639\n",
      "Epoch 73/100\n",
      "8000/8000 [==============================] - 1s 129us/step - loss: 0.3338 - acc: 0.8646\n",
      "Epoch 74/100\n",
      "8000/8000 [==============================] - 1s 120us/step - loss: 0.3335 - acc: 0.8645\n",
      "Epoch 75/100\n",
      "8000/8000 [==============================] - 1s 117us/step - loss: 0.3331 - acc: 0.8647\n",
      "Epoch 76/100\n",
      "8000/8000 [==============================] - 1s 117us/step - loss: 0.3337 - acc: 0.8656\n",
      "Epoch 77/100\n",
      "8000/8000 [==============================] - 1s 115us/step - loss: 0.3338 - acc: 0.8642\n",
      "Epoch 78/100\n",
      "8000/8000 [==============================] - 1s 116us/step - loss: 0.3335 - acc: 0.8635\n",
      "Epoch 79/100\n",
      "8000/8000 [==============================] - 1s 121us/step - loss: 0.3336 - acc: 0.8636\n",
      "Epoch 80/100\n",
      "8000/8000 [==============================] - 1s 117us/step - loss: 0.3332 - acc: 0.8644\n",
      "Epoch 81/100\n",
      "8000/8000 [==============================] - 1s 116us/step - loss: 0.3336 - acc: 0.8641\n",
      "Epoch 82/100\n",
      "8000/8000 [==============================] - 1s 104us/step - loss: 0.3335 - acc: 0.8637\n",
      "Epoch 83/100\n",
      "8000/8000 [==============================] - 1s 100us/step - loss: 0.3336 - acc: 0.8645\n",
      "Epoch 84/100\n",
      "8000/8000 [==============================] - 1s 101us/step - loss: 0.3337 - acc: 0.8626\n",
      "Epoch 85/100\n",
      "8000/8000 [==============================] - 1s 102us/step - loss: 0.3337 - acc: 0.8661\n",
      "Epoch 86/100\n",
      "8000/8000 [==============================] - 1s 101us/step - loss: 0.3340 - acc: 0.8647\n",
      "Epoch 87/100\n",
      "8000/8000 [==============================] - 1s 103us/step - loss: 0.3337 - acc: 0.8631\n",
      "Epoch 88/100\n",
      "8000/8000 [==============================] - 1s 99us/step - loss: 0.3333 - acc: 0.8645\n",
      "Epoch 89/100\n",
      "8000/8000 [==============================] - 1s 100us/step - loss: 0.3336 - acc: 0.8641\n",
      "Epoch 90/100\n",
      "8000/8000 [==============================] - 1s 101us/step - loss: 0.3334 - acc: 0.8642\n",
      "Epoch 91/100\n",
      "8000/8000 [==============================] - 1s 101us/step - loss: 0.3331 - acc: 0.8655\n",
      "Epoch 92/100\n",
      "8000/8000 [==============================] - 1s 102us/step - loss: 0.3336 - acc: 0.8656\n",
      "Epoch 93/100\n",
      "8000/8000 [==============================] - 1s 100us/step - loss: 0.3336 - acc: 0.8642\n",
      "Epoch 94/100\n",
      "8000/8000 [==============================] - 1s 100us/step - loss: 0.3333 - acc: 0.8640\n",
      "Epoch 95/100\n",
      "8000/8000 [==============================] - 1s 100us/step - loss: 0.3335 - acc: 0.8654\n",
      "Epoch 96/100\n",
      "8000/8000 [==============================] - 1s 100us/step - loss: 0.3330 - acc: 0.8645\n",
      "Epoch 97/100\n",
      "8000/8000 [==============================] - 1s 101us/step - loss: 0.3334 - acc: 0.8629\n",
      "Epoch 98/100\n",
      "8000/8000 [==============================] - 1s 101us/step - loss: 0.3339 - acc: 0.8639\n",
      "Epoch 99/100\n",
      "8000/8000 [==============================] - 1s 102us/step - loss: 0.3334 - acc: 0.8635\n",
      "Epoch 100/100\n",
      "8000/8000 [==============================] - 1s 100us/step - loss: 0.3334 - acc: 0.8637\n"
     ]
    },
    {
     "data": {
      "text/plain": [
       "<keras.callbacks.History at 0x7fa178826358>"
      ]
     },
     "execution_count": 50,
     "metadata": {},
     "output_type": "execute_result"
    }
   ],
   "source": [
    "classifier.fit(X_train,y_train,batch_size=10,epochs=100)"
   ]
  },
  {
   "cell_type": "markdown",
   "metadata": {},
   "source": [
    "# Part 3 - Making Predictions and Evaluating the model"
   ]
  },
  {
   "cell_type": "markdown",
   "metadata": {},
   "source": [
    "## Predicting the Test set results"
   ]
  },
  {
   "cell_type": "code",
   "execution_count": 51,
   "metadata": {},
   "outputs": [],
   "source": [
    "y_pred = classifier.predict(X_test)"
   ]
  },
  {
   "cell_type": "code",
   "execution_count": 52,
   "metadata": {},
   "outputs": [
    {
     "data": {
      "text/plain": [
       "array([[0.03749658],\n",
       "       [0.01137221],\n",
       "       [0.10882819],\n",
       "       ...,\n",
       "       [0.63614947],\n",
       "       [0.09426025],\n",
       "       [0.29695624]], dtype=float32)"
      ]
     },
     "execution_count": 52,
     "metadata": {},
     "output_type": "execute_result"
    }
   ],
   "source": [
    "y_pred"
   ]
  },
  {
   "cell_type": "code",
   "execution_count": 53,
   "metadata": {},
   "outputs": [],
   "source": [
    "y_pred = (y_pred > 0.5)"
   ]
  },
  {
   "cell_type": "code",
   "execution_count": 54,
   "metadata": {},
   "outputs": [
    {
     "data": {
      "text/plain": [
       "array([[False],\n",
       "       [False],\n",
       "       [False],\n",
       "       ...,\n",
       "       [ True],\n",
       "       [False],\n",
       "       [False]])"
      ]
     },
     "execution_count": 54,
     "metadata": {},
     "output_type": "execute_result"
    }
   ],
   "source": [
    "y_pred"
   ]
  },
  {
   "cell_type": "markdown",
   "metadata": {},
   "source": [
    "## Making the Confusion Matrix"
   ]
  },
  {
   "cell_type": "code",
   "execution_count": 57,
   "metadata": {},
   "outputs": [],
   "source": [
    "from sklearn.metrics import confusion_matrix\n",
    "cm = confusion_matrix(y_test,y_pred)"
   ]
  },
  {
   "cell_type": "code",
   "execution_count": 58,
   "metadata": {},
   "outputs": [
    {
     "data": {
      "text/plain": [
       "array([[1549,   58],\n",
       "       [ 218,  175]])"
      ]
     },
     "execution_count": 58,
     "metadata": {},
     "output_type": "execute_result"
    }
   ],
   "source": [
    "cm"
   ]
  },
  {
   "cell_type": "code",
   "execution_count": 59,
   "metadata": {},
   "outputs": [
    {
     "data": {
      "text/plain": [
       "0.862"
      ]
     },
     "execution_count": 59,
     "metadata": {},
     "output_type": "execute_result"
    }
   ],
   "source": [
    "(1549 + 175) / 2000"
   ]
  },
  {
   "cell_type": "code",
   "execution_count": null,
   "metadata": {},
   "outputs": [],
   "source": []
  }
 ],
 "metadata": {
  "kernelspec": {
   "display_name": "Python 3",
   "language": "python",
   "name": "python3"
  },
  "language_info": {
   "codemirror_mode": {
    "name": "ipython",
    "version": 3
   },
   "file_extension": ".py",
   "mimetype": "text/x-python",
   "name": "python",
   "nbconvert_exporter": "python",
   "pygments_lexer": "ipython3",
   "version": "3.5.5"
  }
 },
 "nbformat": 4,
 "nbformat_minor": 2
}
